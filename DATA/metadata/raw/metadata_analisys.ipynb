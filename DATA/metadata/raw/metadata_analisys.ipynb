{
 "cells": [
  {
   "cell_type": "markdown",
   "metadata": {},
   "source": [
    "### Inspection of metadata for samples"
   ]
  },
  {
   "cell_type": "code",
   "execution_count": 13,
   "metadata": {},
   "outputs": [],
   "source": [
    "import pandas as pd\n",
    "import numpy as np"
   ]
  },
  {
   "cell_type": "code",
   "execution_count": 2,
   "metadata": {},
   "outputs": [],
   "source": [
    "md = pd.read_csv(\"./metadata_db_run2.csv\",sep=\",\")"
   ]
  },
  {
   "cell_type": "code",
   "execution_count": 19,
   "metadata": {},
   "outputs": [
    {
     "data": {
      "text/html": [
       "<div>\n",
       "<style scoped>\n",
       "    .dataframe tbody tr th:only-of-type {\n",
       "        vertical-align: middle;\n",
       "    }\n",
       "\n",
       "    .dataframe tbody tr th {\n",
       "        vertical-align: top;\n",
       "    }\n",
       "\n",
       "    .dataframe thead th {\n",
       "        text-align: right;\n",
       "    }\n",
       "</style>\n",
       "<table border=\"1\" class=\"dataframe\">\n",
       "  <thead>\n",
       "    <tr style=\"text-align: right;\">\n",
       "      <th></th>\n",
       "      <th>run</th>\n",
       "      <th>estrogen</th>\n",
       "      <th>anti_viral</th>\n",
       "      <th>statin</th>\n",
       "      <th>allergy_med</th>\n",
       "      <th>anti_depress</th>\n",
       "      <th>probiotic</th>\n",
       "      <th>baselinemedications</th>\n",
       "      <th>antibiotic</th>\n",
       "      <th>yogurt_pro</th>\n",
       "      <th>...</th>\n",
       "      <th>geo_loc_name_country</th>\n",
       "      <th>steroids</th>\n",
       "      <th>mesalamine</th>\n",
       "      <th>immunosuppressant</th>\n",
       "      <th>fecal_calprotectin</th>\n",
       "      <th>date_of_receipt</th>\n",
       "      <th>instrument_model</th>\n",
       "      <th>original_participant_id</th>\n",
       "      <th>repository</th>\n",
       "      <th>library_layout</th>\n",
       "    </tr>\n",
       "  </thead>\n",
       "  <tbody>\n",
       "    <tr>\n",
       "      <th>0</th>\n",
       "      <td>SRR6468522</td>\n",
       "      <td>NaN</td>\n",
       "      <td>NaN</td>\n",
       "      <td>NaN</td>\n",
       "      <td>NaN</td>\n",
       "      <td>NaN</td>\n",
       "      <td>NaN</td>\n",
       "      <td>NaN</td>\n",
       "      <td>False</td>\n",
       "      <td>NaN</td>\n",
       "      <td>...</td>\n",
       "      <td>USA</td>\n",
       "      <td>False</td>\n",
       "      <td>False</td>\n",
       "      <td>False</td>\n",
       "      <td>0.0</td>\n",
       "      <td>NaN</td>\n",
       "      <td>NaN</td>\n",
       "      <td>NaN</td>\n",
       "      <td>sra</td>\n",
       "      <td>paired</td>\n",
       "    </tr>\n",
       "  </tbody>\n",
       "</table>\n",
       "<p>1 rows × 35 columns</p>\n",
       "</div>"
      ],
      "text/plain": [
       "          run estrogen anti_viral statin allergy_med anti_depress probiotic   \n",
       "0  SRR6468522      NaN        NaN    NaN         NaN          NaN       NaN  \\\n",
       "\n",
       "  baselinemedications  antibiotic yogurt_pro  ...  geo_loc_name_country   \n",
       "0                 NaN       False        NaN  ...                   USA  \\\n",
       "\n",
       "   steroids mesalamine  immunosuppressant fecal_calprotectin date_of_receipt   \n",
       "0     False      False              False                0.0             NaN  \\\n",
       "\n",
       "  instrument_model  original_participant_id  repository library_layout  \n",
       "0              NaN                      NaN         sra         paired  \n",
       "\n",
       "[1 rows x 35 columns]"
      ]
     },
     "execution_count": 19,
     "metadata": {},
     "output_type": "execute_result"
    }
   ],
   "source": [
    "md.head(1)"
   ]
  },
  {
   "cell_type": "code",
   "execution_count": 26,
   "metadata": {},
   "outputs": [
    {
     "name": "stdout",
     "output_type": "stream",
     "text": [
      ">run\t0 0 293\n",
      ">estrogen\t5 70 293\n",
      ">anti_viral\t1 74 293\n",
      ">statin\t5 70 293\n",
      ">allergy_med\t14 61 293\n",
      ">anti_depress\t22 53 293\n",
      ">probiotic\t15 104 293\n",
      ">baselinemedications\t0 0 293\n",
      ">antibiotic\t0 293 293\n",
      ">yogurt_pro\t17 102 293\n",
      ">fastq_bytes\t0 0 293\n",
      ">bases\t0 0 293\n",
      ">instrument\t0 0 293\n",
      ">read_count\t0 0 293\n",
      ">library_name\t0 0 293\n",
      ">participant_original_id\t0 0 293\n",
      ">diagnosis\t0 0 293\n",
      ">age\t0 0 293\n",
      ">bmi\t0 174 293\n",
      ">host_sex\t0 0 293\n",
      ">study\t0 0 293\n",
      ">participant_id\t0 0 293\n",
      ">n_day\t0 293 293\n",
      ">n_time_point\t0 293 293\n",
      ">timeseries\t119 174 293\n",
      ">geo_loc_name_country\t0 0 293\n",
      ">steroids\t28 146 293\n",
      ">mesalamine\t44 130 293\n",
      ">immunosuppressant\t62 156 293\n",
      ">fecal_calprotectin\t0 86 293\n",
      ">date_of_receipt\t0 0 293\n",
      ">instrument_model\t0 0 293\n",
      ">original_participant_id\t0 0 293\n",
      ">repository\t0 0 293\n",
      ">library_layout\t0 0 293\n"
     ]
    }
   ],
   "source": [
    "for col in md.columns:\n",
    "    print(\">\"+col,end=\"\\t\")\n",
    "    print((md[col]==True).sum(),(md[col]==False).sum(),md[col].__len__())"
   ]
  },
  {
   "cell_type": "code",
   "execution_count": 28,
   "metadata": {},
   "outputs": [
    {
     "data": {
      "text/plain": [
       "<Axes: >"
      ]
     },
     "execution_count": 28,
     "metadata": {},
     "output_type": "execute_result"
    },
    {
     "data": {
      "image/png": "[encoded data removed]",
      "text/plain": [
       "<Figure size 640x480 with 1 Axes>"
      ]
     },
     "metadata": {},
     "output_type": "display_data"
    }
   ],
   "source": [
    "md[\"read_count\"].hist()"
   ]
  },
  {
   "cell_type": "code",
   "execution_count": 35,
   "metadata": {},
   "outputs": [
    {
     "data": {
      "text/plain": [
       "0            NaN\n",
       "1            NaN\n",
       "2            NaN\n",
       "3            NaN\n",
       "4            NaN\n",
       "         ...    \n",
       "288    1727950.0\n",
       "289    1519258.0\n",
       "290    1811182.0\n",
       "291      80898.0\n",
       "292    1279440.0\n",
       "Name: read_count, Length: 293, dtype: float64"
      ]
     },
     "execution_count": 35,
     "metadata": {},
     "output_type": "execute_result"
    }
   ],
   "source": [
    "#fastq_bytes,read_count,bmi,timeseries\n",
    "md[\"read_count\"]"
   ]
  },
  {
   "cell_type": "code",
   "execution_count": null,
   "metadata": {},
   "outputs": [],
   "source": []
  }
 ],
 "metadata": {
  "kernelspec": {
   "display_name": "base",
   "language": "python",
   "name": "python3"
  },
  "language_info": {
   "codemirror_mode": {
    "name": "ipython",
    "version": 3
   },
   "file_extension": ".py",
   "mimetype": "text/x-python",
   "name": "python",
   "nbconvert_exporter": "python",
   "pygments_lexer": "ipython3",
   "version": "3.10.10"
  }
 },
 "nbformat": 4,
 "nbformat_minor": 2
}
